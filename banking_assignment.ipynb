{
 "cells": [
  {
   "cell_type": "markdown",
   "id": "83e6a76b-7d21-42ea-8c2c-26ba23a662f0",
   "metadata": {},
   "source": [
    "###  Array Creation and Manipulation"
   ]
  },
  {
   "cell_type": "code",
   "execution_count": null,
   "id": "cb077a98-d8ab-4767-951d-445d09bbd4d0",
   "metadata": {},
   "outputs": [],
   "source": [
    "   banking_data=np.array([\n",
    "    [1,10346,696,89,6],\n",
    "    [2,1356,543,67,8],\n",
    "    [3,53145,685,46,7],\n",
    "    [4,85774,466,35,6],\n",
    "    [5,67865,535,64,3],\n",
    "    [6,32645,636,96,6],\n",
    "    [7,78547,564,57,7],\n",
    "    [8,64477,553,73,7],\n",
    "    [9,26754,867,67,2],\n",
    "    [10,56843,466,47,5]\n",
    "])\n",
    "\n",
    "#1 Create a 4x4 identity matrix using np.eye()\n",
    "import numpy as np\n",
    "a=np.eye(4)\n",
    "a"
   ]
  },
  {
   "cell_type": "code",
   "execution_count": 2,
   "id": "13b7a8eb-980a-4a6a-9f61-d0b62fa0202e",
   "metadata": {},
   "outputs": [
    {
     "data": {
      "text/plain": [
       "array([0., 0., 0., 0., 0., 0., 0., 0.])"
      ]
     },
     "execution_count": 2,
     "metadata": {},
     "output_type": "execute_result"
    }
   ],
   "source": [
    "#2: Create an array of 8 zeros using np.zeros()\n",
    "import numpy as np\n",
    "a=np.zeros(8)\n",
    "a"
   ]
  },
  {
   "cell_type": "code",
   "execution_count": 3,
   "id": "17af1e42-c1e1-4249-8242-557dc3056304",
   "metadata": {},
   "outputs": [
    {
     "data": {
      "text/plain": [
       "array([1., 1., 1., 1., 1., 1.])"
      ]
     },
     "execution_count": 3,
     "metadata": {},
     "output_type": "execute_result"
    }
   ],
   "source": [
    "#3: Create an array of 6 ones using np.ones()\n",
    "import numpy as np\n",
    "a=np.ones(6)\n",
    "a"
   ]
  },
  {
   "cell_type": "code",
   "execution_count": 4,
   "id": "dbfab3d0-fb1c-43a2-9e23-4d1adb8d3bdf",
   "metadata": {},
   "outputs": [
    {
     "data": {
      "text/plain": [
       "array([ 0,  1,  2,  3,  4,  5,  6,  7,  8,  9, 10, 11, 12, 13, 14, 15])"
      ]
     },
     "execution_count": 4,
     "metadata": {},
     "output_type": "execute_result"
    }
   ],
   "source": [
    "#4: Create an array with values from 0 to 15 using np.arange()\n",
    "import numpy as np\n",
    "a=np.arange(0 ,16)\n",
    "a"
   ]
  },
  {
   "cell_type": "code",
   "execution_count": 7,
   "id": "24e203f9-3902-4909-aa9c-c77f50c9b844",
   "metadata": {},
   "outputs": [
    {
     "data": {
      "text/plain": [
       "array([  0.        ,  14.28571429,  28.57142857,  42.85714286,\n",
       "        57.14285714,  71.42857143,  85.71428571, 100.        ])"
      ]
     },
     "execution_count": 7,
     "metadata": {},
     "output_type": "execute_result"
    }
   ],
   "source": [
    "#.5: Create an array with 8 evenly spaced values from 0 to 100 using np.linspace()\n",
    "import numpy as np\n",
    "a=np.linspace(0,100,8)\n",
    "\n",
    "a"
   ]
  },
  {
   "cell_type": "markdown",
   "id": "003274f7-aa63-4d00-86bd-8a1f464195fe",
   "metadata": {},
   "source": [
    "### Array Attributes and Information"
   ]
  },
  {
   "cell_type": "code",
   "execution_count": null,
   "id": "19c5d332-0397-4451-adfd-ce3b0ded522b",
   "metadata": {},
   "outputs": [
    {
     "data": {
      "text/plain": [
       "(10, 5)"
      ]
     },
     "execution_count": 10,
     "metadata": {},
     "output_type": "execute_result"
    }
   ],
   "source": [
    "#Q2.1: What is the shape of the banking_data array?\n",
    "banking_data=np.array([\n",
    "    [1,10346,696,89,5],\n",
    "    [2,1356,543,67,8],\n",
    "    [3,53145,685,46,7],\n",
    "    [4,85774,466,35,6],\n",
    "    [5,67865,535,64,3],\n",
    "    [6,32645,636,96,6],\n",
    "    [7,78547,564,57,7],\n",
    "    [8,64477,553,73,7],\n",
    "    [9,26754,867,67,2],\n",
    "    [10,56843,466,47,5]\n",
    "])\n",
    "banking_data.shape"
   ]
  },
  {
   "cell_type": "code",
   "execution_count": 23,
   "id": "df4f46f9-c2a5-43a8-9e1b-d8194f5f9497",
   "metadata": {},
   "outputs": [
    {
     "data": {
      "text/plain": [
       "dtype('float64')"
      ]
     },
     "execution_count": 23,
     "metadata": {},
     "output_type": "execute_result"
    }
   ],
   "source": [
    "#Q2.2: What is the data type of the banking_data array?\n",
    "banking_data.dtype"
   ]
  },
  {
   "cell_type": "code",
   "execution_count": 47,
   "id": "7b6d6fee-7f29-4a02-a176-37a1b37df9cd",
   "metadata": {},
   "outputs": [
    {
     "name": "stdout",
     "output_type": "stream",
     "text": [
      "50\n"
     ]
    }
   ],
   "source": [
    "#Q2.3: What is the size (total number of elements) of the banking_data array?\n",
    "import numpy as np\n",
    "banking_data=np.array([\n",
    "    [1,10346,696,89,5],\n",
    "    [2,1356,543,67,8],\n",
    "    [3,53145,685,46,7],\n",
    "    [4,85774,466,35,6],\n",
    "    [5,67865,535,64,3],\n",
    "    [6,32645,636,96,6],\n",
    "    [7,78547,564,57,7],\n",
    "    [8,64477,553,73,7],\n",
    "    [9,26754,867,67,2],\n",
    "    [10,56843,466,47,5]\n",
    "])\n",
    "print(banking_data.size)"
   ]
  },
  {
   "cell_type": "code",
   "execution_count": 48,
   "id": "1cf21f63-d69f-4cb3-94ec-ae5c82e6dabf",
   "metadata": {},
   "outputs": [
    {
     "data": {
      "text/plain": [
       "2"
      ]
     },
     "execution_count": 48,
     "metadata": {},
     "output_type": "execute_result"
    }
   ],
   "source": [
    "#Q2.4: What is the number of dimensions of the banking_data array?\n",
    "banking_data=np.array([\n",
    "    [1,10346,696,89,5],\n",
    "    [2,1356,543,67,8],\n",
    "    [3,53145,685,46,7],\n",
    "    [4,85774,466,35,6],\n",
    "    [5,67865,535,64,3],\n",
    "    [6,32645,636,96,6],\n",
    "    [7,78547,564,57,7],\n",
    "    [8,64477,553,73,7],\n",
    "    [9,26754,867,67,2],\n",
    "    [10,56843,466,47,5]\n",
    "])\n",
    "banking_data.ndim"
   ]
  },
  {
   "cell_type": "code",
   "execution_count": 49,
   "id": "37dd6549-776a-4d73-b907-27cd538afff9",
   "metadata": {},
   "outputs": [
    {
     "data": {
      "text/plain": [
       "400"
      ]
     },
     "execution_count": 49,
     "metadata": {},
     "output_type": "execute_result"
    }
   ],
   "source": [
    "#Q2.5: What is the memory size of the banking_data array in bytes?\n",
    "banking_data.nbytes"
   ]
  },
  {
   "cell_type": "markdown",
   "id": "2431786a-66da-4331-b3bb-0289f8ce698c",
   "metadata": {},
   "source": [
    "## Question 3: Indexing and Slicing"
   ]
  },
  {
   "cell_type": "code",
   "execution_count": 50,
   "id": "9ff46d11-afe5-431d-ada2-b228b1a59557",
   "metadata": {},
   "outputs": [
    {
     "data": {
      "text/plain": [
       "array([    1, 10346,   696,    89,     5])"
      ]
     },
     "execution_count": 50,
     "metadata": {},
     "output_type": "execute_result"
    }
   ],
   "source": [
    "#Q3.1: Extract the first row of banking_data\n",
    "banking_data[0]"
   ]
  },
  {
   "cell_type": "code",
   "execution_count": 51,
   "id": "a92f4aa8-1886-4207-b048-459ff086a89d",
   "metadata": {},
   "outputs": [
    {
     "data": {
      "text/plain": [
       "array([   10, 56843,   466,    47,     5])"
      ]
     },
     "execution_count": 51,
     "metadata": {},
     "output_type": "execute_result"
    }
   ],
   "source": [
    "#Q3.2: Extract the last row of banking_data\n",
    "banking_data[-1]"
   ]
  },
  {
   "cell_type": "code",
   "execution_count": 16,
   "id": "ad935c2a-d3ac-4281-b7c8-f439482c020b",
   "metadata": {},
   "outputs": [
    {
     "data": {
      "text/plain": [
       "array([   2, 1356,  543,   67,    8])"
      ]
     },
     "execution_count": 16,
     "metadata": {},
     "output_type": "execute_result"
    }
   ],
   "source": [
    "#Q3.3: Extract the Account_Balance column (column index 1)\n",
    "banking_data[1]"
   ]
  },
  {
   "cell_type": "code",
   "execution_count": 52,
   "id": "ba9095cf-fe35-417d-b482-d147c2ccf519",
   "metadata": {},
   "outputs": [
    {
     "data": {
      "text/plain": [
       "array([[    1, 10346,   696],\n",
       "       [    2,  1356,   543],\n",
       "       [    3, 53145,   685],\n",
       "       [    4, 85774,   466]])"
      ]
     },
     "execution_count": 52,
     "metadata": {},
     "output_type": "execute_result"
    }
   ],
   "source": [
    "#Q3.4: Extract the first 4 rows and first 3 columns\n",
    "banking_data[:4,:3]"
   ]
  },
  {
   "cell_type": "code",
   "execution_count": 53,
   "id": "198040c7-0d10-4000-813f-a35cf016ed87",
   "metadata": {},
   "outputs": [
    {
     "data": {
      "text/plain": [
       "array([[    4, 85774,   466,    35,     6],\n",
       "       [    5, 67865,   535,    64,     3],\n",
       "       [    6, 32645,   636,    96,     6],\n",
       "       [    7, 78547,   564,    57,     7],\n",
       "       [    8, 64477,   553,    73,     7]])"
      ]
     },
     "execution_count": 53,
     "metadata": {},
     "output_type": "execute_result"
    }
   ],
   "source": [
    "#Q3.5: Extract rows 3 to 7 (inclusive)\n",
    "banking_data[3:8]"
   ]
  },
  {
   "cell_type": "markdown",
   "id": "95a36228-f2fd-44ef-afbc-2674514781db",
   "metadata": {},
   "source": [
    "### Question 4: Mathematical Operations"
   ]
  },
  {
   "cell_type": "code",
   "execution_count": 54,
   "id": "d55fe7bc-7020-4f05-8476-e6746b41e2bc",
   "metadata": {},
   "outputs": [
    {
     "name": "stdout",
     "output_type": "stream",
     "text": [
      "477752\n"
     ]
    }
   ],
   "source": [
    "#Q4.1: Calculate the sum of all account balances\n",
    "import numpy as np\n",
    "a=banking_data[:,1].sum()\n",
    "print(a)"
   ]
  },
  {
   "cell_type": "code",
   "execution_count": 55,
   "id": "4b24f3c2-283c-43ad-9a4c-f70c1186adc0",
   "metadata": {},
   "outputs": [
    {
     "name": "stdout",
     "output_type": "stream",
     "text": [
      "54994.0\n"
     ]
    }
   ],
   "source": [
    "#Q4.2: Calculate the mean account balance\n",
    "a = banking_data[:,1].mean()\n",
    "print(total)"
   ]
  },
  {
   "cell_type": "code",
   "execution_count": 56,
   "id": "6c047e92-27e6-4ae0-8a7d-046ccb938d81",
   "metadata": {},
   "outputs": [
    {
     "name": "stdout",
     "output_type": "stream",
     "text": [
      "27223.01114057738\n"
     ]
    }
   ],
   "source": [
    "#Q4.3: Calculate the standard deviation of account balances\n",
    "a = banking_data[:, 1].std()\n",
    "print(a)"
   ]
  },
  {
   "cell_type": "code",
   "execution_count": 57,
   "id": "d29526ee-d0d2-481b-b9cd-0ba9037d3b9f",
   "metadata": {},
   "outputs": [
    {
     "name": "stdout",
     "output_type": "stream",
     "text": [
      "741092335.5600001\n"
     ]
    }
   ],
   "source": [
    "#Q4.4: Calculate the variance of account balances\n",
    "a = banking_data[:,1].var()\n",
    "print(a)"
   ]
  },
  {
   "cell_type": "code",
   "execution_count": 58,
   "id": "c464cfd3-c68d-4d82-8971-c1cf43555a3c",
   "metadata": {},
   "outputs": [
    {
     "name": "stdout",
     "output_type": "stream",
     "text": [
      "54994.0\n"
     ]
    }
   ],
   "source": [
    "#Q4.5: Calculate the median account balance\n",
    "a = banking_data[:, 1]\n",
    "total = np.median(a)\n",
    "print(total)"
   ]
  },
  {
   "cell_type": "markdown",
   "id": "c3a26579-ac43-4446-93a5-7815dbd3a339",
   "metadata": {},
   "source": [
    "\n",
    "### Question 5: Statistical Functions"
   ]
  },
  {
   "cell_type": "code",
   "execution_count": 59,
   "id": "f73dda18-292b-44c1-8b5e-2ba847833156",
   "metadata": {},
   "outputs": [
    {
     "name": "stdout",
     "output_type": "stream",
     "text": [
      "1356\n",
      "85774\n"
     ]
    }
   ],
   "source": [
    "#Q5.1: Find the minimum and maximum account balances\n",
    "a=banking_data[:,1]\n",
    "print(a.min())\n",
    "print(a.max())"
   ]
  },
  {
   "cell_type": "code",
   "execution_count": 60,
   "id": "cae4984e-2557-4be8-8b32-52f8d86ce8e5",
   "metadata": {},
   "outputs": [
    {
     "name": "stdout",
     "output_type": "stream",
     "text": [
      "466\n",
      "867\n"
     ]
    }
   ],
   "source": [
    "#Q5.2: Find the minimum and maximum credit scores\n",
    "a=banking_data[:,2]\n",
    "print(a.min())\n",
    "print(a.max())"
   ]
  },
  {
   "cell_type": "code",
   "execution_count": 61,
   "id": "7b738ac3-a359-4187-af45-7b57a6266d0e",
   "metadata": {},
   "outputs": [
    {
     "name": "stdout",
     "output_type": "stream",
     "text": [
      "28226.75\n",
      "54994.0\n",
      "67018.0\n"
     ]
    }
   ],
   "source": [
    "#Q5.3: Calculate the percentile values for account balances (25th, 50th, 75th)\n",
    "a=banking_data[:,1]\n",
    "p25=np.percentile(a,25)\n",
    "p50=np.percentile(a,50)\n",
    "p75=np.percentile(a,75)\n",
    "print(p25)\n",
    "print(p50)\n",
    "print(p75)"
   ]
  },
  {
   "cell_type": "code",
   "execution_count": 62,
   "id": "17fcee8a-c8e9-4d22-9807-21751dcf7339",
   "metadata": {},
   "outputs": [
    {
     "data": {
      "text/plain": [
       "array([[ 1.        , -0.50900231],\n",
       "       [-0.50900231,  1.        ]])"
      ]
     },
     "execution_count": 62,
     "metadata": {},
     "output_type": "execute_result"
    }
   ],
   "source": [
    "#Q5.4: Calculate the correlation between account balance and credit score\n",
    "a=banking_data[:,1]\n",
    "c=banking_data[:,2]\n",
    "np.corrcoef(a,c)"
   ]
  },
  {
   "cell_type": "code",
   "execution_count": 63,
   "id": "7ccf52ef-f88d-465a-af4b-38ec9284e433",
   "metadata": {},
   "outputs": [
    {
     "data": {
      "text/plain": [
       "array([[ 8.23435928e+08, -1.79486158e+06],\n",
       "       [-1.79486158e+06,  1.51005444e+04]])"
      ]
     },
     "execution_count": 63,
     "metadata": {},
     "output_type": "execute_result"
    }
   ],
   "source": [
    "#Q5.5: Calculate the covariance between account balance and credit score\n",
    "a=banking_data[:,1]\n",
    "c=banking_data[:,2]\n",
    "np.cov(a,c)"
   ]
  },
  {
   "cell_type": "markdown",
   "id": "bba901bd-3a1f-42e7-9485-063761922b01",
   "metadata": {},
   "source": [
    "### Array Reshaping and Manipulation"
   ]
  },
  {
   "cell_type": "code",
   "execution_count": 64,
   "id": "9cf319ba-170d-497e-833b-2223248f6fef",
   "metadata": {},
   "outputs": [
    {
     "name": "stdout",
     "output_type": "stream",
     "text": [
      "[[    1 10346   696    89     6     2  1356   543    67     8]\n",
      " [    3 53145   685    46     7     4 85774   466    35     6]\n",
      " [    5 67865   535    64     3     6 32645   636    96     6]\n",
      " [    7 78547   564    57     7     8 64477   553    73     7]\n",
      " [    9 26754   867    67     2    10 56843   466    47     5]]\n"
     ]
    }
   ],
   "source": [
    "#Q6.1: Reshape the banking_data to 5 rows × 10 columns\n",
    "import numpy as np\n",
    "banking_data = np.array([\n",
    "     [1,10346,696,89,6],\n",
    "    [2,1356,543,67,8],\n",
    "    [3,53145,685,46,7],\n",
    "    [4,85774,466,35,6],\n",
    "    [5,67865,535,64,3],\n",
    "    [6,32645,636,96,6],\n",
    "    [7,78547,564,57,7],\n",
    "    [8,64477,553,73,7],\n",
    "    [9,26754,867,67,2],\n",
    "    [10,56843,466,47,5]\n",
    "    \n",
    "])\n",
    "reshaped=banking_data.reshape(5,10)\n",
    "print(reshaped)"
   ]
  },
  {
   "cell_type": "code",
   "execution_count": 65,
   "id": "f5b83891-3fcc-43b0-8619-3f5569aa9aac",
   "metadata": {},
   "outputs": [
    {
     "data": {
      "text/plain": [
       "array([    1, 10346,   696,    89,     6,     2,  1356,   543,    67,\n",
       "           8,     3, 53145,   685,    46,     7,     4, 85774,   466,\n",
       "          35,     6,     5, 67865,   535,    64,     3,     6, 32645,\n",
       "         636,    96,     6,     7, 78547,   564,    57,     7,     8,\n",
       "       64477,   553,    73,     7,     9, 26754,   867,    67,     2,\n",
       "          10, 56843,   466,    47,     5])"
      ]
     },
     "execution_count": 65,
     "metadata": {},
     "output_type": "execute_result"
    }
   ],
   "source": [
    "#Q6.2: Flatten the banking_data to a 1D array\n",
    "banking_data.flatten()"
   ]
  },
  {
   "cell_type": "code",
   "execution_count": 66,
   "id": "a7223a88-203b-4aa9-b72b-a022588694ab",
   "metadata": {},
   "outputs": [
    {
     "data": {
      "text/plain": [
       "array([[    1,     2,     3,     4,     5,     6,     7,     8,     9,\n",
       "           10],\n",
       "       [10346,  1356, 53145, 85774, 67865, 32645, 78547, 64477, 26754,\n",
       "        56843],\n",
       "       [  696,   543,   685,   466,   535,   636,   564,   553,   867,\n",
       "          466],\n",
       "       [   89,    67,    46,    35,    64,    96,    57,    73,    67,\n",
       "           47],\n",
       "       [    6,     8,     7,     6,     3,     6,     7,     7,     2,\n",
       "            5]])"
      ]
     },
     "execution_count": 66,
     "metadata": {},
     "output_type": "execute_result"
    }
   ],
   "source": [
    "#Q6.3: _Transpose the banking_data\n",
    "banking_data.transpose()"
   ]
  },
  {
   "cell_type": "code",
   "execution_count": 67,
   "id": "d6087acb-338e-4295-8f62-7ba231c1227d",
   "metadata": {},
   "outputs": [
    {
     "data": {
      "text/plain": [
       "[array([[    1, 10346,   696,    89,     6],\n",
       "        [    2,  1356,   543,    67,     8],\n",
       "        [    3, 53145,   685,    46,     7],\n",
       "        [    4, 85774,   466,    35,     6],\n",
       "        [    5, 67865,   535,    64,     3]]),\n",
       " array([[    6, 32645,   636,    96,     6],\n",
       "        [    7, 78547,   564,    57,     7],\n",
       "        [    8, 64477,   553,    73,     7],\n",
       "        [    9, 26754,   867,    67,     2],\n",
       "        [   10, 56843,   466,    47,     5]])]"
      ]
     },
     "execution_count": 67,
     "metadata": {},
     "output_type": "execute_result"
    }
   ],
   "source": [
    "#Q6.4: Split the banking_data into 2 equal parts vertically\n",
    "np.vsplit(banking_data,2)"
   ]
  },
  {
   "cell_type": "code",
   "execution_count": 68,
   "id": "480dcfaf-56e2-40d1-87d2-77368e196b09",
   "metadata": {},
   "outputs": [
    {
     "data": {
      "text/plain": [
       "[array([[    1, 10346,   696],\n",
       "        [    2,  1356,   543],\n",
       "        [    3, 53145,   685],\n",
       "        [    4, 85774,   466],\n",
       "        [    5, 67865,   535],\n",
       "        [    6, 32645,   636],\n",
       "        [    7, 78547,   564],\n",
       "        [    8, 64477,   553],\n",
       "        [    9, 26754,   867],\n",
       "        [   10, 56843,   466]]),\n",
       " array([[89,  6, 57],\n",
       "        [67,  8, 90],\n",
       "        [46,  7, 53],\n",
       "        [35,  6, 21],\n",
       "        [64,  3, 98],\n",
       "        [96,  6, 35],\n",
       "        [57,  7, 89],\n",
       "        [73,  7, 54],\n",
       "        [67,  2, 45],\n",
       "        [47,  5, 98]])]"
      ]
     },
     "execution_count": 68,
     "metadata": {},
     "output_type": "execute_result"
    }
   ],
   "source": [
    "#Q6.5: Split the banking_data into 2 equal parts horizontally\n",
    "banking_data=np.array([\n",
    "    [1,10346,696,89,6,57],\n",
    "    [2,1356,543,67,8,90],\n",
    "    [3,53145,685,46,7,53],\n",
    "    [4,85774,466,35,6,21],\n",
    "    [5,67865,535,64,3,98],\n",
    "    [6,32645,636,96,6,35],\n",
    "    [7,78547,564,57,7,89],\n",
    "    [8,64477,553,73,7,54],\n",
    "    [9,26754,867,67,2,45],\n",
    "    [10,56843,466,47,5,98]\n",
    "])\n",
    "np.hsplit(banking_data,2)"
   ]
  },
  {
   "cell_type": "markdown",
   "id": "f5df0bce-5923-48bc-a9fd-a107bac2044b",
   "metadata": {},
   "source": [
    "### Question 7: Logical Operations and Filtering"
   ]
  },
  {
   "cell_type": "code",
   "execution_count": 69,
   "id": "bf83e702-1295-4b01-8d8a-112db8b070b2",
   "metadata": {},
   "outputs": [
    {
     "data": {
      "text/plain": [
       "array([ True, False,  True,  True,  True,  True,  True,  True,  True,\n",
       "        True])"
      ]
     },
     "execution_count": 69,
     "metadata": {},
     "output_type": "execute_result"
    }
   ],
   "source": [
    "#Q7.1: Find customers with account balance greater than $10\n",
    "bal=banking_data[:,1]>10000\n",
    "bal"
   ]
  },
  {
   "cell_type": "code",
   "execution_count": 70,
   "id": "adcf4e66-c3c3-41d1-bb28-1975f7776c35",
   "metadata": {},
   "outputs": [
    {
     "data": {
      "text/plain": [
       "array([False, False, False, False, False, False, False, False,  True,\n",
       "       False])"
      ]
     },
     "execution_count": 70,
     "metadata": {},
     "output_type": "execute_result"
    }
   ],
   "source": [
    "#Q7.2: Find customers with credit score greater than 800\n",
    "banking_data[:,2]>800"
   ]
  },
  {
   "cell_type": "code",
   "execution_count": 75,
   "id": "0ffae2a6-558d-41ff-b049-e16d18ba42d7",
   "metadata": {},
   "outputs": [
    {
     "data": {
      "text/plain": [
       "array([[    1, 10346,   696,    89,     6,    57],\n",
       "       [    2,  1356,   543,    67,     8,    90],\n",
       "       [    5, 67865,   535,    64,     3,    98],\n",
       "       [    6, 32645,   636,    96,     6,    35],\n",
       "       [    7, 78547,   564,    57,     7,    89],\n",
       "       [    8, 64477,   553,    73,     7,    54]])"
      ]
     },
     "execution_count": 75,
     "metadata": {},
     "output_type": "execute_result"
    }
   ],
   "source": [
    "#Q7.3: Find customers with transaction count greater than 50 AND credit score less than 750\n",
    "banking_data[(banking_data[:, 3] > 50) & (banking_data[:, 2] < 750)]"
   ]
  },
  {
   "cell_type": "code",
   "execution_count": 76,
   "id": "a992c859-7d39-44ae-a6d6-47b01c2039a0",
   "metadata": {},
   "outputs": [
    {
     "data": {
      "text/plain": [
       "np.int64(9)"
      ]
     },
     "execution_count": 76,
     "metadata": {},
     "output_type": "execute_result"
    }
   ],
   "source": [
    "#Q7.4: Count how many customers have account balance between $10,000 and $100,000\n",
    "np.sum((banking_data[:,1]=>10000) & (banking_data[:,1]<=100000))"
   ]
  },
  {
   "cell_type": "code",
   "execution_count": 78,
   "id": "7d7944e1-84ca-4efc-b9d9-e61895c3c71a",
   "metadata": {},
   "outputs": [
    {
     "data": {
      "text/plain": [
       "np.int64(8)"
      ]
     },
     "execution_count": 78,
     "metadata": {},
     "output_type": "execute_result"
    }
   ],
   "source": [
    "#Q7.5: Find the index of the customer with the highest credit score\n",
    "np.argmax(banking_data[:, 2])"
   ]
  },
  {
   "cell_type": "markdown",
   "id": "15991e5a-63ab-46d4-853b-e5ee8dcc083d",
   "metadata": {},
   "source": [
    "### Sorting and Searching"
   ]
  },
  {
   "cell_type": "code",
   "execution_count": 84,
   "id": "69c06915-58be-4e0f-8731-d0ff2c37acb6",
   "metadata": {},
   "outputs": [
    {
     "data": {
      "text/plain": [
       "array([[    2,  1356,   543,    67,     8,    90],\n",
       "       [    1, 10346,   696,    89,     6,    57],\n",
       "       [    9, 26754,   867,    67,     2,    45],\n",
       "       [    6, 32645,   636,    96,     6,    35],\n",
       "       [    3, 53145,   685,    46,     7,    53],\n",
       "       [   10, 56843,   466,    47,     5,    98],\n",
       "       [    8, 64477,   553,    73,     7,    54],\n",
       "       [    5, 67865,   535,    64,     3,    98],\n",
       "       [    7, 78547,   564,    57,     7,    89],\n",
       "       [    4, 85774,   466,    35,     6,    21]])"
      ]
     },
     "execution_count": 84,
     "metadata": {},
     "output_type": "execute_result"
    }
   ],
   "source": [
    "#Q8.1: Sort the banking_data by account balance (ascending)\n",
    "banking_data[banking_data[:,1].argsort()]\n"
   ]
  },
  {
   "cell_type": "code",
   "execution_count": 85,
   "id": "8d2f8382-9ede-4a86-9a2f-bb83cbc52317",
   "metadata": {},
   "outputs": [
    {
     "data": {
      "text/plain": [
       "array([[    6, 32645,   636,    96,     6,    35],\n",
       "       [    1, 10346,   696,    89,     6,    57],\n",
       "       [    8, 64477,   553,    73,     7,    54],\n",
       "       [    9, 26754,   867,    67,     2,    45],\n",
       "       [    2,  1356,   543,    67,     8,    90],\n",
       "       [    5, 67865,   535,    64,     3,    98],\n",
       "       [    7, 78547,   564,    57,     7,    89],\n",
       "       [   10, 56843,   466,    47,     5,    98],\n",
       "       [    3, 53145,   685,    46,     7,    53],\n",
       "       [    4, 85774,   466,    35,     6,    21]])"
      ]
     },
     "execution_count": 85,
     "metadata": {},
     "output_type": "execute_result"
    }
   ],
   "source": [
    "#Q8.2: Sort the banking_data by credit score (descending)\n",
    "banking_data[ np.argsort(banking_data[:,3])[::-1]]"
   ]
  },
  {
   "cell_type": "code",
   "execution_count": 89,
   "id": "844cee4e-010a-4aa4-a8c2-df4026f4f012",
   "metadata": {},
   "outputs": [
    {
     "data": {
      "text/plain": [
       "array([8, 4, 9, 0, 5, 3, 6, 2, 7, 1])"
      ]
     },
     "execution_count": 89,
     "metadata": {},
     "output_type": "execute_result"
    }
   ],
   "source": [
    "#Q8.3: Find the indices that would sort the array by years active\n",
    "np.argsort(banking_data[:,4])"
   ]
  },
  {
   "cell_type": "code",
   "execution_count": null,
   "id": "c3346fb8-a918-4cdb-b308-68274274b3f9",
   "metadata": {},
   "outputs": [],
   "source": []
  },
  {
   "cell_type": "code",
   "execution_count": 92,
   "id": "d9d5ae50-da90-4657-bc72-4ce0732c010b",
   "metadata": {},
   "outputs": [
    {
     "data": {
      "text/plain": [
       "np.int64(6)"
      ]
     },
     "execution_count": 92,
     "metadata": {},
     "output_type": "execute_result"
    }
   ],
   "source": [
    "#Q8.4: Find the customer with the second highest account balance\n",
    "bal=banking_data[:,1]\n",
    "a=np.argsort(bal)[::-1]\n",
    "num=a[1]\n",
    "num"
   ]
  },
  {
   "cell_type": "code",
   "execution_count": 95,
   "id": "52709599-8ea4-49d5-818a-9118300d174e",
   "metadata": {},
   "outputs": [
    {
     "data": {
      "text/plain": [
       "np.int64(3)"
      ]
     },
     "execution_count": 95,
     "metadata": {},
     "output_type": "execute_result"
    }
   ],
   "source": [
    "#Q8.5: Find the customer with the lowest transaction count\n",
    "sent=banking_data[:,3]\n",
    "bal=np.argmin(sent)\n",
    "bal"
   ]
  },
  {
   "cell_type": "markdown",
   "id": "ab5ed4d1-3745-4ebb-afeb-763847f9c13d",
   "metadata": {},
   "source": [
    "###  Mathematical Functions"
   ]
  },
  {
   "cell_type": "code",
   "execution_count": 96,
   "id": "3ef1842b-169d-44fc-bb5a-b78705f8f5fb",
   "metadata": {},
   "outputs": [
    {
     "data": {
      "text/plain": [
       "array([[    1, 10346,   696,    89,     6,    57],\n",
       "       [    2,  1356,   543,    67,     8,    90],\n",
       "       [    3, 53145,   685,    46,     7,    53],\n",
       "       [    4, 85774,   466,    35,     6,    21],\n",
       "       [    5, 67865,   535,    64,     3,    98],\n",
       "       [    6, 32645,   636,    96,     6,    35],\n",
       "       [    7, 78547,   564,    57,     7,    89],\n",
       "       [    8, 64477,   553,    73,     7,    54],\n",
       "       [    9, 26754,   867,    67,     2,    45],\n",
       "       [   10, 56843,   466,    47,     5,    98]])"
      ]
     },
     "execution_count": 96,
     "metadata": {},
     "output_type": "execute_result"
    }
   ],
   "source": [
    "#Q9.1: Calculate the absolute values of all elements\n",
    "np.abs(banking_data)"
   ]
  },
  {
   "cell_type": "code",
   "execution_count": 106,
   "id": "789f9ba3-241e-4a6a-bb62-4b41e4a6bb58",
   "metadata": {},
   "outputs": [
    {
     "data": {
      "text/plain": [
       "array([101.71528892,  36.82390528, 230.53199344, 292.87198569,\n",
       "       260.50911692, 180.67927385, 280.26237707, 253.92321674,\n",
       "       163.56650024, 238.41770069])"
      ]
     },
     "execution_count": 106,
     "metadata": {},
     "output_type": "execute_result"
    }
   ],
   "source": [
    "#Q9.2: Calculate the square root of all account balances\n",
    "a=banking_data[:,1]\n",
    "b=np.sqrt(a)\n",
    "b"
   ]
  },
  {
   "cell_type": "code",
   "execution_count": 105,
   "id": "b6c91768-3aa8-45e8-82bc-9ef17a9745c5",
   "metadata": {},
   "outputs": [
    {
     "data": {
      "text/plain": [
       "array([484416, 294849, 469225, 217156, 286225, 404496, 318096, 305809,\n",
       "       751689, 217156])"
      ]
     },
     "execution_count": 105,
     "metadata": {},
     "output_type": "execute_result"
    }
   ],
   "source": [
    "#Q9.3: Calculate the square of all credit scores\n",
    "a=banking_data[:,2]\n",
    "b=np.square(a)\n",
    "b"
   ]
  },
  {
   "cell_type": "code",
   "execution_count": 3,
   "id": "244be436-2981-4c04-826d-442692f2cb26",
   "metadata": {},
   "outputs": [
    {
     "data": {
      "text/plain": [
       "array([4.48961282e+38, 1.25236317e+29, 9.49611942e+19, 1.58601345e+15,\n",
       "       6.23514908e+27, 4.92345829e+41, 5.68572000e+24, 5.05239363e+31,\n",
       "       1.25236317e+29, 2.58131289e+20])"
      ]
     },
     "execution_count": 3,
     "metadata": {},
     "output_type": "execute_result"
    }
   ],
   "source": [
    "#Q9.4: Calculate the exponential of all transaction countsu.\n",
    "import numpy as np\n",
    "banking_data=np.array([\n",
    "    [1,10346,696,89,6,57],\n",
    "    [2,1356,543,67,8,90],\n",
    "    [3,53145,685,46,7,53],\n",
    "    [4,85774,466,35,6,21],\n",
    "    [5,67865,535,64,3,98],\n",
    "    [6,32645,636,96,6,35],\n",
    "    [7,78547,564,57,7,89],\n",
    "    [8,64477,553,73,7,54],\n",
    "    [9,26754,867,67,2,45],\n",
    "    [10,56843,466,47,5,98]\n",
    "])\n",
    "np.exp(banking_data[:,3])"
   ]
  },
  {
   "cell_type": "code",
   "execution_count": 109,
   "id": "bf0f8ace-c6fe-477a-a408-38ddef66f89f",
   "metadata": {},
   "outputs": [
    {
     "data": {
      "text/plain": [
       "array([ 9.24435525,  7.21229447, 10.88077931, 11.35947121, 11.12527572,\n",
       "       10.39344698, 11.27145245, 11.07406385, 10.19443927, 10.94804836])"
      ]
     },
     "execution_count": 109,
     "metadata": {},
     "output_type": "execute_result"
    }
   ],
   "source": [
    "#Q9.5: Calculate the natural logarithm of all account balances\n",
    "a=banking_data[:,1]\n",
    "b=np.log(a)\n",
    "b"
   ]
  },
  {
   "cell_type": "markdown",
   "id": "07d293e6-199c-434f-9b31-8f6a1819ed3b",
   "metadata": {},
   "source": [
    "###  Advanced Operations"
   ]
  },
  {
   "cell_type": "code",
   "execution_count": 110,
   "id": "39b66f6d-75a8-44ab-a0b1-6aba39496904",
   "metadata": {},
   "outputs": [
    {
     "data": {
      "text/plain": [
       "array([ 10346,  11702,  64847, 150621, 218486, 251131, 329678, 394155,\n",
       "       420909, 477752])"
      ]
     },
     "execution_count": 110,
     "metadata": {},
     "output_type": "execute_result"
    }
   ],
   "source": [
    " #Q10.1: Calculate the cumulative sum of account balances\n",
    "a=banking_data[:,1]\n",
    "b=np.cumsum(a)\n",
    "b"
   ]
  },
  {
   "cell_type": "code",
   "execution_count": 111,
   "id": "ec559088-766d-4b95-8f5d-b35cd10223e9",
   "metadata": {},
   "outputs": [
    {
     "data": {
      "text/plain": [
       "array([                89,               5963,             274298,\n",
       "                  9600430,          614427520,        58985041920,\n",
       "            3362147389440,    245436759429120,  16444262881751040,\n",
       "       772880355442298880])"
      ]
     },
     "execution_count": 111,
     "metadata": {},
     "output_type": "execute_result"
    }
   ],
   "source": [
    "#Q10.2: Calculate the cumulative product of transaction counts\n",
    "a=banking_data[:,3]\n",
    "b=np.cumprod(a)\n",
    "b"
   ]
  },
  {
   "cell_type": "code",
   "execution_count": 112,
   "id": "96dc4594-73e8-42d0-9030-ece8db0de37b",
   "metadata": {},
   "outputs": [
    {
     "data": {
      "text/plain": [
       "array([ -8990,  51789,  32629, -17909, -35220,  45902, -14070, -37723,\n",
       "        30089])"
      ]
     },
     "execution_count": 112,
     "metadata": {},
     "output_type": "execute_result"
    }
   ],
   "source": [
    "#Q10.3: Calculate the difference between consecutive account balances\n",
    "a=banking_data[:,1]\n",
    "b=np.diff(a)\n",
    "b"
   ]
  },
  {
   "cell_type": "code",
   "execution_count": 113,
   "id": "76743a5f-61bd-40fa-953f-0af33bc5adab",
   "metadata": {},
   "outputs": [
    {
     "data": {
      "text/plain": [
       "array([ -8990. ,  21399.5,  42209. ,   7360. , -26564.5,   5341. ,\n",
       "        15916. , -25896.5,  -3817. ,  30089. ])"
      ]
     },
     "execution_count": 113,
     "metadata": {},
     "output_type": "execute_result"
    }
   ],
   "source": [
    "#Q10.4: Calculate the gradient of account balances\n",
    "a=banking_data[:,1]\n",
    "b=np.gradient(a)\n",
    "b"
   ]
  },
  {
   "cell_type": "code",
   "execution_count": 116,
   "id": "b511433b-2d01-4df1-a10b-3a74d83fbec6",
   "metadata": {},
   "outputs": [
    {
     "data": {
      "text/plain": [
       "(array([2, 2, 0, 4, 2]),\n",
       " array([ 1356. , 18239.6, 35123.2, 52006.8, 68890.4, 85774. ]))"
      ]
     },
     "execution_count": 116,
     "metadata": {},
     "output_type": "execute_result"
    }
   ],
   "source": [
    "#Q10.5: Calculate the histogram of account balances with 5 bins\n",
    "a=banking_data[:,1]\n",
    "b=np.histogram(a,bins=5)\n",
    "b"
   ]
  },
  {
   "cell_type": "markdown",
   "id": "09c40e90-4fbb-4a3e-a07f-4913184d417b",
   "metadata": {},
   "source": [
    "###  Random Numbers and Simulation"
   ]
  },
  {
   "cell_type": "code",
   "execution_count": 1,
   "id": "3510739a-3f78-43fa-8ba7-9c12b9eeb81b",
   "metadata": {},
   "outputs": [
    {
     "data": {
      "text/plain": [
       "array([378, 810, 687, 267, 312,  50], dtype=int32)"
      ]
     },
     "execution_count": 1,
     "metadata": {},
     "output_type": "execute_result"
    }
   ],
   "source": [
    "#Q11.1: Generate 6 random integers between 1 and 1000\n",
    "import numpy as np\n",
    "np.random.randint(1,1000,size=6)\n"
   ]
  },
  {
   "cell_type": "code",
   "execution_count": 2,
   "id": "a423be05-4e6c-46a5-8af5-89b87eb339f4",
   "metadata": {},
   "outputs": [
    {
     "data": {
      "text/plain": [
       "array([0.28851025, 0.25811997, 0.43643388, 0.52869492, 0.65668012,\n",
       "       0.77731291])"
      ]
     },
     "execution_count": 2,
     "metadata": {},
     "output_type": "execute_result"
    }
   ],
   "source": [
    "#Q11.2: Generate 6 random floats between 0 and 1\n",
    "np.random.rand(6)"
   ]
  },
  {
   "cell_type": "code",
   "execution_count": null,
   "id": "f62cc0c8-c719-483e-8229-313852176fa9",
   "metadata": {},
   "outputs": [],
   "source": [
    "#Q11.3: Generate 6 random numbers from normal distribution (mean=700, std=100)\n"
   ]
  },
  {
   "cell_type": "code",
   "execution_count": 2,
   "id": "88e64b94-fe1b-41e9-a48f-d7451de2d765",
   "metadata": {},
   "outputs": [],
   "source": [
    "#Q11.4: Shuffle the banking_data rows randomly\n",
    "import  numpy as np\n",
    "banking_data=np.array([\n",
    "    [1,10346,696,89,6],\n",
    "    [2,1356,543,67,8],\n",
    "    [3,53145,685,46,7],\n",
    "    [4,85774,466,35,6],\n",
    "    [5,67865,535,64,3],\n",
    "    [6,32645,636,96,6],\n",
    "    [7,78547,564,57,7],\n",
    "    [8,64477,553,73,7],\n",
    "    [9,26754,867,67,2],\n",
    "    [10,56843,466,47,5]\n",
    "])\n",
    "np.random.shuffle(banking_data)"
   ]
  },
  {
   "cell_type": "code",
   "execution_count": null,
   "id": "23214631-48f2-49b0-baed-c9ac9c3d1843",
   "metadata": {},
   "outputs": [],
   "source": [
    "#Q11.5: Set random seed to 123 and generate 4 random numbers"
   ]
  },
  {
   "cell_type": "markdown",
   "id": "44133c9d-bf37-4d40-8301-5592868c5142",
   "metadata": {},
   "source": [
    "### Linear Algebra Operations"
   ]
  },
  {
   "cell_type": "code",
   "execution_count": 3,
   "id": "a6f340b0-15c7-41a1-a0b3-12c6ba83f8f5",
   "metadata": {},
   "outputs": [
    {
     "data": {
      "text/plain": [
       "np.int64(271022973)"
      ]
     },
     "execution_count": 3,
     "metadata": {},
     "output_type": "execute_result"
    }
   ],
   "source": [
    "#Q12.1: Calculate the dot product of account balance and credit score columns\n",
    "a=banking_data[:,1]\n",
    "b=banking_data[:,2]\n",
    "c=np.dot(a,b)\n",
    "c"
   ]
  },
  {
   "cell_type": "code",
   "execution_count": 5,
   "id": "79774365-6396-4e00-a233-2e92b890ac7f",
   "metadata": {},
   "outputs": [
    {
     "data": {
      "text/plain": [
       "array([4674102,     849,  -19336])"
      ]
     },
     "execution_count": 5,
     "metadata": {},
     "output_type": "execute_result"
    }
   ],
   "source": [
    "#Q12.2: Calculate the cross product of first two rows\n",
    "import numpy as np\n",
    "r1=banking_data[0, :3]\n",
    "r2=banking_data[1, :3]\n",
    "np.cross(r1,r2)\n"
   ]
  },
  {
   "cell_type": "code",
   "execution_count": 9,
   "id": "7dbffe44-8f2a-4441-acac-daca0d8d9721",
   "metadata": {},
   "outputs": [
    {
     "name": "stdout",
     "output_type": "stream",
     "text": [
      "173883.92883185035\n"
     ]
    }
   ],
   "source": [
    "#Q12.3: Calculate the norm (magnitude) of the account balance column\n",
    "import numpy as np\n",
    "a=banking_data[:, 1]\n",
    "b=np.linalg.norm(a)\n",
    "print(b)"
   ]
  },
  {
   "cell_type": "code",
   "execution_count": 19,
   "id": "f335746c-4e6f-43b4-9ec5-e6a0a20d8534",
   "metadata": {},
   "outputs": [
    {
     "name": "stdout",
     "output_type": "stream",
     "text": [
      "-72.99999999999999\n"
     ]
    }
   ],
   "source": [
    "#Q12.4: Create a 3x3 matrix and calculate its determinant\n",
    "import numpy as np\n",
    "matrix = np.array([\n",
    "    [6, 8, 1],\n",
    "    [3, 1, 6],\n",
    "    [1, 2, 3]\n",
    "])\n",
    "det = np.linalg.det(matrix)\n",
    "print(det)\n"
   ]
  },
  {
   "cell_type": "code",
   "execution_count": 20,
   "id": "047f7992-a2db-4697-b638-652e44b3bb73",
   "metadata": {},
   "outputs": [
    {
     "data": {
      "text/plain": [
       "array([[ 0.12328767,  0.30136986, -0.64383562],\n",
       "       [ 0.04109589, -0.23287671,  0.45205479],\n",
       "       [-0.06849315,  0.05479452,  0.24657534]])"
      ]
     },
     "execution_count": 20,
     "metadata": {},
     "output_type": "execute_result"
    }
   ],
   "source": [
    "#Q12.5: Calculate the inverse of the 3x3 matrix\n",
    "np.linalg.inv(matrix)"
   ]
  },
  {
   "cell_type": "markdown",
   "id": "803428ca-6242-4f8e-985b-f4be6af9dcf0",
   "metadata": {},
   "source": [
    "### String Operations"
   ]
  },
  {
   "cell_type": "code",
   "execution_count": 21,
   "id": "c46037a4-6f1c-429b-949f-67600c43daf8",
   "metadata": {},
   "outputs": [
    {
     "data": {
      "text/plain": [
       "array(['1', '2', '3', '4', '5', '6', '7', '8', '9', '10'], dtype='<U21')"
      ]
     },
     "execution_count": 21,
     "metadata": {},
     "output_type": "execute_result"
    }
   ],
   "source": [
    "#Q13.1: Convert all customer IDs to strings\n",
    "banking_data = np.array([\n",
    "    [1,10346,696,89,6],\n",
    "    [2,1356,543,67,8],\n",
    "    [3,53145,685,46,7],\n",
    "    [4,85774,466,35,6],\n",
    "    [5,67865,535,64,3],\n",
    "    [6,32645,636,96,6],\n",
    "    [7,78547,564,57,7],\n",
    "    [8,64477,553,73,7],\n",
    "    [9,26754,867,67,2],\n",
    "    [10,56843,466,47,5]\n",
    "])\n",
    "banking_data[:,0].astype(str)"
   ]
  },
  {
   "cell_type": "code",
   "execution_count": 28,
   "id": "502abbfe-33e5-4f4e-b10b-88ac737445a5",
   "metadata": {},
   "outputs": [
    {
     "data": {
      "text/plain": [
       "np.False_"
      ]
     },
     "execution_count": 28,
     "metadata": {},
     "output_type": "execute_result"
    }
   ],
   "source": [
    "#Q13.2: Check if any customer ID contains '100'\n",
    "import numpy as np\n",
    "customer_id=banking_data[:,0].astype(str)\n",
    "np.any(np.char.find(customer_id, '100') != -1)"
   ]
  },
  {
   "cell_type": "code",
   "execution_count": null,
   "id": "477e2984-75ba-415f-92e8-f1fedda9fef9",
   "metadata": {},
   "outputs": [],
   "source": [
    "#Q13.3: Convert all customer IDs to uppercase (if they were strings)"
   ]
  },
  {
   "cell_type": "code",
   "execution_count": 30,
   "id": "dc52daa6-31c4-4bb4-aafd-20083a36f624",
   "metadata": {},
   "outputs": [
    {
     "data": {
      "text/plain": [
       "array([1, 1, 1, 1, 1, 1, 1, 1, 1, 2])"
      ]
     },
     "execution_count": 30,
     "metadata": {},
     "output_type": "execute_result"
    }
   ],
   "source": [
    "#Q13.4: Count the length of each customer ID string\n",
    "a=banking_data[:,0].astype(str)\n",
    "np.char.str_len(a)"
   ]
  },
  {
   "cell_type": "code",
   "execution_count": 31,
   "id": "b69945a8-0998-4038-bb8b-e00d1c9a274a",
   "metadata": {},
   "outputs": [
    {
     "data": {
      "text/plain": [
       "array(['1', '2', '3', '4', '5', '6', '7', '8', '9', '10'], dtype='<U2')"
      ]
     },
     "execution_count": 31,
     "metadata": {},
     "output_type": "execute_result"
    }
   ],
   "source": [
    "#Q13.5: Replace '100' with 'CUST' in customer IDs\n",
    "a=banking_data[:,0].astype(str)\n",
    "np.char.replace(a,'100','CUST')"
   ]
  },
  {
   "cell_type": "markdown",
   "id": "6e4c234c-4fa5-4315-a3d2-05d3b2899f2e",
   "metadata": {},
   "source": [
    "### Date and Time Operations "
   ]
  },
  {
   "cell_type": "code",
   "execution_count": 32,
   "id": "a7d51af8-2268-4287-9119-f160b2764d88",
   "metadata": {},
   "outputs": [
    {
     "data": {
      "text/plain": [
       "array([72, 96, 84, 72, 36, 72, 84, 84, 24, 60])"
      ]
     },
     "execution_count": 32,
     "metadata": {},
     "output_type": "execute_result"
    }
   ],
   "source": [
    "#Q14.1: Convert years active to months\n",
    "yrs=banking_data[:,4]\n",
    "months=yrs*12\n",
    "months"
   ]
  },
  {
   "cell_type": "code",
   "execution_count": 34,
   "id": "4fe9b290-e4bf-4628-9983-e8382b8420f9",
   "metadata": {},
   "outputs": [
    {
     "data": {
      "text/plain": [
       "np.float64(5.7)"
      ]
     },
     "execution_count": 34,
     "metadata": {},
     "output_type": "execute_result"
    }
   ],
   "source": [
    "#Q14.2: Calculate the average years active\n",
    "yrs=banking_data[:, 4]\n",
    "average=np.mean(yrs)\n",
    "average"
   ]
  },
  {
   "cell_type": "code",
   "execution_count": 38,
   "id": "816b0764-b72f-46fb-b596-c779be78d657",
   "metadata": {},
   "outputs": [
    {
     "data": {
      "text/plain": [
       "array([[    1, 10346,   696,    89,     6],\n",
       "       [    2,  1356,   543,    67,     8],\n",
       "       [    3, 53145,   685,    46,     7],\n",
       "       [    4, 85774,   466,    35,     6],\n",
       "       [    6, 32645,   636,    96,     6],\n",
       "       [    7, 78547,   564,    57,     7],\n",
       "       [    8, 64477,   553,    73,     7]])"
      ]
     },
     "execution_count": 38,
     "metadata": {},
     "output_type": "execute_result"
    }
   ],
   "source": [
    "#Q14.3: Find customers who have been active for more than 5 years\n",
    "banking_data[banking_data[:, 4]>5]\n"
   ]
  },
  {
   "cell_type": "code",
   "execution_count": 41,
   "id": "8d9a7836-5032-4d47-ba20-1e07d98be6d7",
   "metadata": {},
   "outputs": [
    {
     "data": {
      "text/plain": [
       "np.int64(57)"
      ]
     },
     "execution_count": 41,
     "metadata": {},
     "output_type": "execute_result"
    }
   ],
   "source": [
    "#Q14.4: Calculate the total time all customers have been active (in years)\n",
    "yr=banking_data[:,4]\n",
    "total=np.sum(yr)\n",
    "total"
   ]
  },
  {
   "cell_type": "code",
   "execution_count": 43,
   "id": "0f56e030-ffcd-45d0-9626-d6722cbf4d19",
   "metadata": {},
   "outputs": [
    {
     "data": {
      "text/plain": [
       "np.int64(2)"
      ]
     },
     "execution_count": 43,
     "metadata": {},
     "output_type": "execute_result"
    }
   ],
   "source": [
    "#Q14.5: Find the customer with the shortest time active\n",
    "yr=banking_data[:,4]\n",
    "short=np.min(yr)\n",
    "short"
   ]
  },
  {
   "cell_type": "markdown",
   "id": "5a365eed-3384-4877-9594-353bae597356",
   "metadata": {},
   "source": [
    "###  Advanced Array Operations "
   ]
  },
  {
   "cell_type": "code",
   "execution_count": 45,
   "id": "13376f1b-5b45-49c6-969d-410816d62f19",
   "metadata": {},
   "outputs": [
    {
     "data": {
      "text/plain": [
       "array([ 5173. ,   678. , 26572.5, 42887. , 33932.5, 16322.5, 39273.5,\n",
       "       32238.5, 13377. , 28421.5])"
      ]
     },
     "execution_count": 45,
     "metadata": {},
     "output_type": "execute_result"
    }
   ],
   "source": [
    "#Q15.1: Apply a function to calculate 5% interest on all account balances\n",
    "bal=banking_data[:,1]\n",
    "interest=bal*0.5\n",
    "interest"
   ]
  },
  {
   "cell_type": "code",
   "execution_count": 46,
   "id": "67241249-4055-4cdf-b529-82cfa3960feb",
   "metadata": {},
   "outputs": [
    {
     "data": {
      "text/plain": [
       "array(['high', 'low', 'high', 'high', 'high', 'high', 'high', 'high',\n",
       "       'high', 'high'], dtype='<U6')"
      ]
     },
     "execution_count": 46,
     "metadata": {},
     "output_type": "execute_result"
    }
   ],
   "source": [
    "#Q15.2: Use np.where to categorize customers by balance ranges\n",
    "bal=banking_data[:,1]\n",
    "categories=np.where(bal<2000,'low',np.where(bal<=6000,'medium','high'))\n",
    "categories"
   ]
  },
  {
   "cell_type": "code",
   "execution_count": 4,
   "id": "301d839f-bf21-48fc-abd5-a375dca59b1c",
   "metadata": {},
   "outputs": [
    {
     "name": "stdout",
     "output_type": "stream",
     "text": [
      "['Excellent' 'Excellent' 'Excellent' 'Excellent' 'Excellent' 'Excellent'\n",
      " 'Excellent' 'Excellent' 'Excellent' 'Excellent']\n"
     ]
    }
   ],
   "source": [
    "#Q15.3: Use np.select to categorize customers by credit score ranges\n",
    "credit_scores = banking_data[:, 2]\n",
    "conditions = [\n",
    "    credit_scores < 350,\n",
    "    (credit_scores >= 350) & (credit_scores < 400),\n",
    "    (credit_scores >= 400) & (credit_scores < 450),\n",
    "    credit_scores >= 450\n",
    "]\n",
    "chocies = ['poor', 'good', 'fair','Excellent']\n",
    "score_categories = np.select(conditions, chocies, default='Unknown')\n",
    "print(score_categories)\n",
    "\n"
   ]
  },
  {
   "cell_type": "code",
   "execution_count": 8,
   "id": "a2d1b6b1-bed7-415b-affd-7402b1fb1c26",
   "metadata": {},
   "outputs": [
    {
     "name": "stdout",
     "output_type": "stream",
     "text": [
      "[ 10863   1423  63774 102928  81438  39174  94256  77372  32104  68211]\n"
     ]
    }
   ],
   "source": [
    "#Q15.4: Use np.piecewise to apply different interest rates based on balance\n",
    "def low_interest(x): return x * 1.05  \n",
    "def mid_interest(x): return x * 1.10  \n",
    "def high_interest(x): return x * 1.20  \n",
    "\n",
    "interest_prices = np.piecewise(\n",
    "    banking_data[:, 1],\n",
    "    [banking_data[:, 1] < 20000, (banking_data[:, 1] >= 20000) & (banking_data[:, 1] < 25000), banking_data[:, 1] >= 25000],\n",
    "    [low_interest, mid_interest, high_interest]\n",
    ")\n",
    "print(interest_prices)\n",
    "\n"
   ]
  },
  {
   "cell_type": "code",
   "execution_count": 54,
   "id": "eed08ff1-9a76-47cf-8aa3-01e98ee31eed",
   "metadata": {},
   "outputs": [
    {
     "name": "stdout",
     "output_type": "stream",
     "text": [
      "[11138  1976 53886 86285 68472 33389 79182 65118 27699 57371]\n"
     ]
    }
   ],
   "source": [
    "#Q15.5: Use np.apply_along_axis to calculate the sum of each row\n",
    "import numpy as np\n",
    "\n",
    "# Use np.apply_along_axis to calculate row sums\n",
    "row_sums = np.apply_along_axis(np.sum, axis=1, arr=banking_data)\n",
    "\n",
    "print(row_sums)"
   ]
  },
  {
   "cell_type": "markdown",
   "id": "9dbb8b53-adbb-48d1-8ae7-f00340988ada",
   "metadata": {},
   "source": [
    "### Array Concatenation and Stacking"
   ]
  },
  {
   "cell_type": "code",
   "execution_count": 58,
   "id": "6b02fd6c-cdcc-4321-b5ab-4e25ed3a07c3",
   "metadata": {},
   "outputs": [
    {
     "data": {
      "text/plain": [
       "array([[ 1,  2, 12, 34],\n",
       "       [ 3,  4, 32, 23],\n",
       "       [ 5,  6, 42, 15]])"
      ]
     },
     "execution_count": 58,
     "metadata": {},
     "output_type": "execute_result"
    }
   ],
   "source": [
    "#Q16.1: Concatenate two arrays horizontally using np.hstack()\n",
    "import numpy as np\n",
    "a=np.array([\n",
    "    [1,2],\n",
    "    [3,4],\n",
    "    [5,6]\n",
    "])\n",
    "b=np.array([\n",
    "    [12,34],\n",
    "    [32,23],\n",
    "    [42,15]\n",
    "])\n",
    "result=np.hstack((a,b))\n",
    "result"
   ]
  },
  {
   "cell_type": "code",
   "execution_count": 59,
   "id": "ce93c77f-8c93-4d67-a82c-1f17eb6d7bb4",
   "metadata": {},
   "outputs": [
    {
     "data": {
      "text/plain": [
       "array([[ 1,  2],\n",
       "       [ 3,  4],\n",
       "       [ 5,  6],\n",
       "       [12, 34],\n",
       "       [32, 23],\n",
       "       [42, 15]])"
      ]
     },
     "execution_count": 59,
     "metadata": {},
     "output_type": "execute_result"
    }
   ],
   "source": [
    "#Q16.2: Concatenate two arrays vertically using np.vstack()\n",
    "import numpy as np\n",
    "a=np.array([\n",
    "    [1,2],\n",
    "    [3,4],\n",
    "    [5,6]\n",
    "])\n",
    "b=np.array([\n",
    "    [12,34],\n",
    "    [32,23],\n",
    "    [42,15]\n",
    "])\n",
    "result=np.vstack((a,b))\n",
    "result"
   ]
  },
  {
   "cell_type": "code",
   "execution_count": 63,
   "id": "e3ae1c5b-e3ef-4a2c-946f-a17540f86f96",
   "metadata": {},
   "outputs": [
    {
     "data": {
      "text/plain": [
       "array([[ 1,  2, 12, 34],\n",
       "       [ 3,  4, 32, 23],\n",
       "       [ 5,  6, 42, 15]])"
      ]
     },
     "execution_count": 63,
     "metadata": {},
     "output_type": "execute_result"
    }
   ],
   "source": [
    "#Q16.3: Concatenate arrays along a specific axis using np.concatenate()\n",
    "import numpy as np\n",
    "a=np.array([\n",
    "    [1,2],\n",
    "    [3,4],\n",
    "    [5,6]\n",
    "])\n",
    "b=np.array([\n",
    "    [12,34],\n",
    "    [32,23],\n",
    "    [42,15]\n",
    "])\n",
    "result=np.concatenate((a,b),axis=1)\n",
    "result"
   ]
  },
  {
   "cell_type": "code",
   "execution_count": 65,
   "id": "6bbebf5e-6066-43af-8307-fb1e3e17b80a",
   "metadata": {},
   "outputs": [
    {
     "data": {
      "text/plain": [
       "array([[[ 1, 12],\n",
       "        [ 2, 34]],\n",
       "\n",
       "       [[ 3, 32],\n",
       "        [ 4, 23]],\n",
       "\n",
       "       [[ 5, 42],\n",
       "        [ 6, 15]]])"
      ]
     },
     "execution_count": 65,
     "metadata": {},
     "output_type": "execute_result"
    }
   ],
   "source": [
    "#Q16.4: Stack arrays depth-wise using np.dstack()\n",
    "np.dstack((a,b))"
   ]
  },
  {
   "cell_type": "code",
   "execution_count": 66,
   "id": "e9d0031a-5054-418f-8e36-b43a40156785",
   "metadata": {},
   "outputs": [
    {
     "data": {
      "text/plain": [
       "array([[ 1,  2, 12, 34],\n",
       "       [ 3,  4, 32, 23],\n",
       "       [ 5,  6, 42, 15]])"
      ]
     },
     "execution_count": 66,
     "metadata": {},
     "output_type": "execute_result"
    }
   ],
   "source": [
    "#Q16.5: Create a column stack using np.column_stack()\n",
    "np.column_stack((a,b))"
   ]
  },
  {
   "cell_type": "markdown",
   "id": "7ef3b197-09ae-42dd-8a91-90a9d8aa9adf",
   "metadata": {},
   "source": [
    "### Array Splitting Operations"
   ]
  },
  {
   "cell_type": "code",
   "execution_count": 67,
   "id": "d4d00eea-39cb-41c9-b909-948074025c75",
   "metadata": {},
   "outputs": [
    {
     "data": {
      "text/plain": [
       "[array([1, 2, 3]), array([4, 5, 6]), array([7, 8, 9])]"
      ]
     },
     "execution_count": 67,
     "metadata": {},
     "output_type": "execute_result"
    }
   ],
   "source": [
    "#Q17.1: Split an array into 3 equal parts using np.split()\n",
    "arr=np.array([1,2,3,4,5,6,7,8,9])\n",
    "np.split(arr,3)"
   ]
  },
  {
   "cell_type": "code",
   "execution_count": 70,
   "id": "8d28e430-28ef-4e3e-8744-66801984ea86",
   "metadata": {},
   "outputs": [
    {
     "data": {
      "text/plain": [
       "[array([0, 1, 2]), array([3, 4, 5, 6, 7]), array([8, 9])]"
      ]
     },
     "execution_count": 70,
     "metadata": {},
     "output_type": "execute_result"
    }
   ],
   "source": [
    "#Q17.2: Split an array at specific indices using np.split()\n",
    "import numpy as np\n",
    "arr = np.array([0, 1, 2, 3, 4, 5, 6, 7, 8, 9])\n",
    "np.split(arr,[3,8])"
   ]
  },
  {
   "cell_type": "code",
   "execution_count": 73,
   "id": "e5b1fa3c-3503-4e0e-8930-f466ad7d0bef",
   "metadata": {},
   "outputs": [
    {
     "data": {
      "text/plain": [
       "[array([[1, 2],\n",
       "        [7, 8]]),\n",
       " array([[ 3,  4],\n",
       "        [ 9, 10]]),\n",
       " array([[ 5,  6],\n",
       "        [11, 12]])]"
      ]
     },
     "execution_count": 73,
     "metadata": {},
     "output_type": "execute_result"
    }
   ],
   "source": [
    "#Q17.3: Split an array horizontally using np.hsplit()\n",
    "arr = np.array([\n",
    "    [1, 2, 3, 4, 5, 6],\n",
    "    [7, 8, 9,10,11,12]\n",
    "])\n",
    "np.hsplit(arr,3)"
   ]
  },
  {
   "cell_type": "code",
   "execution_count": 77,
   "id": "4a1dd75f-7847-4b79-88a7-dd9942aba4db",
   "metadata": {},
   "outputs": [
    {
     "data": {
      "text/plain": [
       "[array([[1, 2],\n",
       "        [3, 4]]),\n",
       " array([[5, 6],\n",
       "        [7, 8]]),\n",
       " array([[ 9, 10],\n",
       "        [11, 12]])]"
      ]
     },
     "execution_count": 77,
     "metadata": {},
     "output_type": "execute_result"
    }
   ],
   "source": [
    "#Q17.4: Split an array vertically using np.vsplit()\n",
    "arr = np.array([\n",
    "     [1, 2],\n",
    "    [3, 4],\n",
    "    [5, 6],\n",
    "    [7, 8],\n",
    "    [9,10],\n",
    "    [11,12]\n",
    "   \n",
    "])\n",
    "np.vsplit(arr,3)"
   ]
  },
  {
   "cell_type": "code",
   "execution_count": 79,
   "id": "57272b31-c2d4-4de5-bd68-f3ad6d267bb9",
   "metadata": {},
   "outputs": [
    {
     "name": "stdout",
     "output_type": "stream",
     "text": [
      "[ 8  9 10]\n"
     ]
    }
   ],
   "source": [
    "#Q17.5: Split an array into equal chunks using np.array_split()\n",
    "import numpy as np\n",
    "\n",
    "arr = np.array([1, 2, 3, 4, 5, 6, 7, 8, 9, 10])\n",
    "parts = np.array_split(arr, 3)\n",
    "print(part)"
   ]
  },
  {
   "cell_type": "markdown",
   "id": "9b68c5ff-6951-4566-85d8-7a18b5613313",
   "metadata": {},
   "source": [
    "### Array Repetition and Tiling"
   ]
  },
  {
   "cell_type": "code",
   "execution_count": 80,
   "id": "00d762e4-5d55-4e35-9aab-3c1796d0cc0b",
   "metadata": {},
   "outputs": [
    {
     "data": {
      "text/plain": [
       "array([1, 1, 1, 2, 2, 2, 3, 3, 3])"
      ]
     },
     "execution_count": 80,
     "metadata": {},
     "output_type": "execute_result"
    }
   ],
   "source": [
    "# Repeat each element of an array 3 times using np.repeat()\n",
    "arr=np.array([1,2,3])\n",
    "np.repeat(arr,3)"
   ]
  },
  {
   "cell_type": "code",
   "execution_count": 81,
   "id": "e3d672ef-c459-415b-8f14-b6b8b938fde7",
   "metadata": {},
   "outputs": [
    {
     "data": {
      "text/plain": [
       "array([[1, 2, 1, 2, 1, 2],\n",
       "       [3, 4, 3, 4, 3, 4],\n",
       "       [1, 2, 1, 2, 1, 2],\n",
       "       [3, 4, 3, 4, 3, 4]])"
      ]
     },
     "execution_count": 81,
     "metadata": {},
     "output_type": "execute_result"
    }
   ],
   "source": [
    "#Q18.3: Repeat a 2D array using np.tile()\n",
    "import numpy as np\n",
    "arr = np.array([[1, 2],\n",
    "                [3, 4]])\n",
    "np.tile(arr,(2,3))"
   ]
  },
  {
   "cell_type": "code",
   "execution_count": 82,
   "id": "48f579fc-e9ca-4069-8220-1f29aafd1d2c",
   "metadata": {},
   "outputs": [
    {
     "data": {
      "text/plain": [
       "array([0, 1, 0, 1, 0, 1, 0, 1, 0, 1])"
      ]
     },
     "execution_count": 82,
     "metadata": {},
     "output_type": "execute_result"
    }
   ],
   "source": [
    "#Q18.4: Create a pattern using np.tile()\n",
    "import numpy as np\n",
    "np.tile([0, 1], 5)"
   ]
  },
  {
   "cell_type": "code",
   "execution_count": 83,
   "id": "385d1704-c584-449b-ba04-41da2544644f",
   "metadata": {},
   "outputs": [
    {
     "name": "stdout",
     "output_type": "stream",
     "text": [
      "[10 20 20 30 30 30]\n"
     ]
    }
   ],
   "source": [
    "#Q18.5: Repeat elements with different counts using np.repeat()\n",
    "import numpy as np\n",
    "arr = np.array([10, 20, 30])\n",
    "repeats = np.array([1, 2, 3]) \n",
    "result = np.repeat(arr, repeats)\n",
    "print(result)"
   ]
  },
  {
   "cell_type": "markdown",
   "id": "3f47fe82-0846-4848-a7e4-4a5e18fb1aa9",
   "metadata": {},
   "source": [
    "### Array Comparison and Logical Operations"
   ]
  },
  {
   "cell_type": "code",
   "execution_count": 4,
   "id": "4df1988f-0554-474e-90ca-7be66acde96e",
   "metadata": {},
   "outputs": [
    {
     "name": "stdout",
     "output_type": "stream",
     "text": [
      "True\n",
      "False\n"
     ]
    }
   ],
   "source": [
    "#Q19.1: Compare two arrays for equality using np.array_equal()\n",
    "import numpy as np\n",
    "a=np.array([1,2,3])\n",
    "b=np.array([1,2,3])\n",
    "c=np.array([2,3,4])\n",
    "print(np.array_equal(a,b))\n",
    "print(np.array_equal(a,c))"
   ]
  },
  {
   "cell_type": "code",
   "execution_count": 6,
   "id": "73953c79-ba68-4f8e-9aee-951cd4add932",
   "metadata": {},
   "outputs": [
    {
     "name": "stdout",
     "output_type": "stream",
     "text": [
      "False\n"
     ]
    }
   ],
   "source": [
    "#Q19.2: Check if arrays are close using np.allclose()\n",
    "import numpy as np\n",
    "a=np.array([1,2,3])\n",
    "b=np.array([1,9,3])\n",
    "print(np.allclose(a,b))\n"
   ]
  },
  {
   "cell_type": "code",
   "execution_count": 8,
   "id": "d401731e-963e-4cab-8bf0-2bb1a23213e9",
   "metadata": {},
   "outputs": [
    {
     "name": "stdout",
     "output_type": "stream",
     "text": [
      "[False  True  True]\n"
     ]
    }
   ],
   "source": [
    "#Q19.3: Apply logical AND operation between arrays\n",
    "a=np.array([0,2,3])\n",
    "b=np.array([3,2,1])\n",
    "print(np.logical_and(a,b))"
   ]
  },
  {
   "cell_type": "code",
   "execution_count": 10,
   "id": "c66d791f-f559-4a3e-a7be-255809e4009a",
   "metadata": {},
   "outputs": [
    {
     "name": "stdout",
     "output_type": "stream",
     "text": [
      "[ True False  True]\n"
     ]
    }
   ],
   "source": [
    "#Q19.4: Apply logical OR operation between arrays\n",
    "a=np.array([1,0,0])\n",
    "b=np.array([3,0,7])\n",
    "print(np.logical_or(a,b))"
   ]
  },
  {
   "cell_type": "code",
   "execution_count": 11,
   "id": "68bf532a-70da-406c-8acc-0a34c6cbba71",
   "metadata": {},
   "outputs": [
    {
     "name": "stdout",
     "output_type": "stream",
     "text": [
      "[0 0 1]\n"
     ]
    }
   ],
   "source": [
    "#Q19.5: Apply logical NOT operation to an array\n",
    "a=np.array([1,2,0])\n",
    "b=np.array([2,0,3])\n",
    "print(np.logical_not(a,b))"
   ]
  },
  {
   "cell_type": "markdown",
   "id": "c0b02361-918b-431c-82a0-0639a75aab7a",
   "metadata": {},
   "source": [
    "### Array Set Operations"
   ]
  },
  {
   "cell_type": "code",
   "execution_count": 12,
   "id": "409d3c4f-4e94-4fb3-8a03-5d53e9bed033",
   "metadata": {},
   "outputs": [
    {
     "name": "stdout",
     "output_type": "stream",
     "text": [
      "[ 1  3  4  6  7  9 23 67 85]\n"
     ]
    }
   ],
   "source": [
    "#Q20.1: Find unique elements in an array using np.unique()\n",
    "a=np.array([1,23,3,1,4,6,3,4,7,9,7,67,85])\n",
    "print(np.unique(a))"
   ]
  },
  {
   "cell_type": "code",
   "execution_count": 14,
   "id": "385f591d-bd44-4e0b-9d8c-124c0fa6753d",
   "metadata": {},
   "outputs": [
    {
     "name": "stdout",
     "output_type": "stream",
     "text": [
      "[1 2 3 5]\n"
     ]
    }
   ],
   "source": [
    "#Q20.2: Find the intersection of two arrays using np.intersect1d()\n",
    "a=np.array([1,2,3,5,7,9,])\n",
    "b=np.array([1,3,45,8,0,2,5])\n",
    "print(np.intersect1d(a,b))"
   ]
  },
  {
   "cell_type": "code",
   "execution_count": 17,
   "id": "232c59c7-f650-412b-ab8c-1e174b8f238a",
   "metadata": {},
   "outputs": [
    {
     "name": "stdout",
     "output_type": "stream",
     "text": [
      "[ 0  1  2  3  5  7  8  9 45]\n"
     ]
    }
   ],
   "source": [
    "#Q20.3: Find the union of two arrays using np.union1d()\n",
    "a=np.array([1,0,2,3,5,7,9,])\n",
    "b=np.array([1,3,45,8,0,2,5])\n",
    "print(np.union1d(a,b))"
   ]
  },
  {
   "cell_type": "code",
   "execution_count": 19,
   "id": "ec4a4944-a6a2-476a-a6a2-ac9ec5a19244",
   "metadata": {},
   "outputs": [
    {
     "name": "stdout",
     "output_type": "stream",
     "text": [
      "[ 8 45]\n"
     ]
    }
   ],
   "source": [
    "#Q20.4: Find elements in first array but not in second using np.setdiff1d()\n",
    "a=np.array([1,0,2,3,5,7,9,])\n",
    "b=np.array([1,3,45,8,0,2,5])\n",
    "print(np.setdiff1d(b,a))"
   ]
  },
  {
   "cell_type": "code",
   "execution_count": 22,
   "id": "86dcf044-4034-480c-8a76-2fc6aa7b8e7a",
   "metadata": {},
   "outputs": [
    {
     "name": "stdout",
     "output_type": "stream",
     "text": [
      "[ 7  8  9 45]\n"
     ]
    }
   ],
   "source": [
    "#Q20.5: Find the symmetric difference between two arrays using np.setxor1d()\n",
    "a=np.array([1,0,2,3,5,7,9,])\n",
    "b=np.array([1,3,45,8,0,2,5])\n",
    "print(np.setxor1d(a,b))  #(a ∪ b) - (a ∩ b)"
   ]
  },
  {
   "cell_type": "code",
   "execution_count": 7,
   "id": "295459f2-55ca-4013-b11c-78efdea4d6e0",
   "metadata": {},
   "outputs": [
    {
     "name": "stdout",
     "output_type": "stream",
     "text": [
      "[ 10863   1423  63774 102928  81438  39174  94256  77372  32104  68211]\n"
     ]
    }
   ],
   "source": [
    "#interest rates based on balance\n",
    "def low_interest(x): return x * 1.05  \n",
    "def mid_interest(x): return x * 1.10  \n",
    "def high_interest(x): return x * 1.20  \n",
    "\n",
    "interest_prices = np.piecewise(\n",
    "    banking_data[:, 1],\n",
    "    [banking_data[:, 1] < 20000, (banking_data[:, 1] >= 20000) & (banking_data[:, 1] < 25000), banking_data[:, 1] >= 25000],\n",
    "    [low_interest, mid_interest, high_interest]\n",
    ")\n",
    "print(interest_prices)"
   ]
  },
  {
   "cell_type": "code",
   "execution_count": null,
   "id": "2149ee9c-c9c5-44fd-9fdb-640f38eb99d8",
   "metadata": {},
   "outputs": [],
   "source": []
  }
 ],
 "metadata": {
  "kernelspec": {
   "display_name": "Python 3 (ipykernel)",
   "language": "python",
   "name": "python3"
  },
  "language_info": {
   "codemirror_mode": {
    "name": "ipython",
    "version": 3
   },
   "file_extension": ".py",
   "mimetype": "text/x-python",
   "name": "python",
   "nbconvert_exporter": "python",
   "pygments_lexer": "ipython3",
   "version": "3.13.5"
  }
 },
 "nbformat": 4,
 "nbformat_minor": 5
}
