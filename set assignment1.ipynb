{
 "cells": [
  {
   "cell_type": "code",
   "execution_count": 1,
   "id": "82c5a81d",
   "metadata": {
    "vscode": {
     "languageId": "markdown"
    }
   },
   "outputs": [
    {
     "name": "stdout",
     "output_type": "stream",
     "text": [
      "{1, 2, 3, 4, 5, 6, 7, 8, 9, 10}\n"
     ]
    }
   ],
   "source": [
    "# Question 1: Create a set of first 10 natural numbers\n",
    "x = {1,2,3,4,5,6,7,8,9,10}\n",
    "print(x)\n",
    "\n",
    "\n"
   ]
  },
  {
   "cell_type": "code",
   "execution_count": 2,
   "id": "7ba4775e",
   "metadata": {},
   "outputs": [
    {
     "name": "stdout",
     "output_type": "stream",
     "text": [
      "{1, 2, 3, 4, 5, 11}\n"
     ]
    }
   ],
   "source": [
    "# Question 2: Add element 11 to set {1, 2, 3, 4, 5}\n",
    "x={1,2,3,4,5}\n",
    "x.add(11)\n",
    "print(x)"
   ]
  },
  {
   "cell_type": "code",
   "execution_count": 3,
   "id": "0273f18a",
   "metadata": {
    "vscode": {
     "languageId": "markdown"
    }
   },
   "outputs": [
    {
     "name": "stdout",
     "output_type": "stream",
     "text": [
      "{1, 2, 4, 5, 6}\n"
     ]
    }
   ],
   "source": [
    "# Question 3: Remove element 3 from set {1, 2, 3, 4, 5, 6}\n",
    "x= {1, 2, 3, 4, 5, 6}\n",
    "x.remove(3)\n",
    "print(x)\n"
   ]
  },
  {
   "cell_type": "code",
   "execution_count": 4,
   "id": "8eeb85a6",
   "metadata": {
    "vscode": {
     "languageId": "markdown"
    }
   },
   "outputs": [
    {
     "name": "stdout",
     "output_type": "stream",
     "text": [
      "{4, 5}\n"
     ]
    }
   ],
   "source": [
    "# Question 4: Find the intersection of {1, 2, 3, 4, 5} and {4, 5, 6, 7, 8}\n",
    "set1 =  {1, 2, 3, 4, 5}\n",
    "set2 = {4,5,6,7,8}\n",
    "x=set1.intersection(set2)\n",
    "print(x)\n"
   ]
  },
  {
   "cell_type": "code",
   "execution_count": 5,
   "id": "2b956a05",
   "metadata": {
    "vscode": {
     "languageId": "markdown"
    }
   },
   "outputs": [
    {
     "name": "stdout",
     "output_type": "stream",
     "text": [
      "{1, 2, 3}\n"
     ]
    }
   ],
   "source": [
    "# Question 5: Find the difference between {1, 2, 3, 4, 5} and {4, 5, 6, 7, 8}\n",
    "set1 ={1, 2, 3, 4, 5}\n",
    "set2 = {4,5,6,7,8}\n",
    "x=set1.difference(set2)\n",
    "print(x)"
   ]
  },
  {
   "cell_type": "code",
   "execution_count": 6,
   "id": "dabd7417",
   "metadata": {
    "vscode": {
     "languageId": "markdown"
    }
   },
   "outputs": [
    {
     "name": "stdout",
     "output_type": "stream",
     "text": [
      "False\n"
     ]
    }
   ],
   "source": [
    "# Question 6: Check if 5 is in set {1, 2, 3, 4, 6, 7, 8}\n",
    "x = {1, 2, 3, 4, 6, 7, 8}\n",
    "print(5 in x)\n",
    "\n"
   ]
  },
  {
   "cell_type": "code",
   "execution_count": 7,
   "id": "943d58c6",
   "metadata": {
    "vscode": {
     "languageId": "markdown"
    }
   },
   "outputs": [
    {
     "data": {
      "text/plain": [
       "5"
      ]
     },
     "execution_count": 7,
     "metadata": {},
     "output_type": "execute_result"
    }
   ],
   "source": [
    "# Question 7: Find the length of set {'a', 'b', 'c', 'd', 'e'}\n",
    "x ={'a', 'b', 'c', 'd', 'e'}\n",
    "len(x)"
   ]
  },
  {
   "cell_type": "code",
   "execution_count": 9,
   "id": "443e011f",
   "metadata": {
    "vscode": {
     "languageId": "markdown"
    }
   },
   "outputs": [
    {
     "name": "stdout",
     "output_type": "stream",
     "text": [
      "{'o', 'e'}\n"
     ]
    }
   ],
   "source": [
    "# Question 8: Create a set of vowels from string \"hello world\"\n",
    "string =\"hello world\"\n",
    "vowels =('a','e','i','o','u')\n",
    "vowel_set = set(char for char in string if char in vowels)\n",
    "print(vowel_set)"
   ]
  },
  {
   "cell_type": "code",
   "execution_count": 1,
   "id": "0619051f",
   "metadata": {
    "vscode": {
     "languageId": "markdown"
    }
   },
   "outputs": [
    {
     "name": "stdout",
     "output_type": "stream",
     "text": [
      "[1, 2, 3, 4, 5, 6, 7]\n"
     ]
    }
   ],
   "source": [
    "# Question 9: Remove duplicates from list [1, 2, 2, 3, 4, 4, 5, 6, 6, 7] using set\n",
    "x=[1, 2, 2, 3, 4, 4, 5, 6, 6, 7]\n",
    "unique_list= list(set(x))\n",
    "print(unique_list)\n"
   ]
  },
  {
   "cell_type": "code",
   "execution_count": 3,
   "id": "ec16085b",
   "metadata": {
    "vscode": {
     "languageId": "markdown"
    }
   },
   "outputs": [
    {
     "name": "stdout",
     "output_type": "stream",
     "text": [
      "True\n"
     ]
    }
   ],
   "source": [
    "# Question 10: Check if {1, 2, 3} is a subset of {1, 2, 3, 4, 5, 6}\n",
    "set1 = {1, 2, 3}\n",
    "set2 ={1, 2, 3, 4, 5, 6}\n",
    "print(set1.issubset(set2))\n"
   ]
  }
 ],
 "metadata": {
  "kernelspec": {
   "display_name": "Python 3",
   "language": "python",
   "name": "python3"
  },
  "language_info": {
   "codemirror_mode": {
    "name": "ipython",
    "version": 3
   },
   "file_extension": ".py",
   "mimetype": "text/x-python",
   "name": "python",
   "nbconvert_exporter": "python",
   "pygments_lexer": "ipython3",
   "version": "3.13.5"
  }
 },
 "nbformat": 4,
 "nbformat_minor": 5
}
